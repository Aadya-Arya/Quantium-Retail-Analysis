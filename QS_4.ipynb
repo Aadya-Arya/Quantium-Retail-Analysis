{
 "cells": [
  {
   "cell_type": "code",
   "execution_count": 1,
   "id": "f4048cd3-c1c8-4164-9df6-55304da6bc44",
   "metadata": {},
   "outputs": [
    {
     "name": "stdout",
     "output_type": "stream",
     "text": [
      "   Trial Store  Control Store  Uplift_Sales (%)  Uplift_Customers (%)\n",
      "0           77            233             23.46                 18.86\n",
      "1           86            155              8.65                  7.39\n",
      "2           88            237             16.62                  5.60\n"
     ]
    }
   ],
   "source": [
    "%run \"QS_1.ipynb\"\n",
    "transaction['DATE'] = pd.to_datetime(transaction['DATE'], origin='1899-12-30', unit='D')\n",
    "transaction['year_mm']=transaction['DATE'].dt.strftime('%Y%m').astype(int)\n",
    "ts=transaction.groupby(['year_mm','STORE_NBR'])['TOT_SALES'].sum().reset_index()\n",
    "NoC=transaction.groupby(['year_mm','STORE_NBR'])['LYLTY_CARD_NBR'].nunique().reset_index()\n",
    "TxNo=transaction.groupby(['year_mm','STORE_NBR'])['TXN_ID'].nunique().reset_index()\n",
    "Pq=transaction.groupby(['year_mm','STORE_NBR'])['PROD_QTY'].sum().reset_index()\n",
    "matrix=pd.merge(ts,NoC,on=['year_mm','STORE_NBR'])\n",
    "matrix=pd.merge(TxNo,matrix,on=['year_mm','STORE_NBR'])\n",
    "matrix=pd.merge(Pq,matrix,on=['year_mm','STORE_NBR'])\n",
    "matrix.rename(columns={\n",
    "    'STORE_NBR':'Store Number',\n",
    "    'PROD_QTY':'Total Chips',\n",
    "    'TXN_ID':' Number of Transactions',\n",
    "    'LYLTY_CARD_NBR':'Number of Customers',\n",
    "    'TOT_SALES':'Total Sales'},inplace=True)\n",
    "def uplift(trial,control):\n",
    "    Trial_pre=matrix[(matrix['Store Number']==trial)&(matrix['year_mm']<201902)]\n",
    "    Trial_post=matrix[(matrix['Store Number']==trial)&(matrix['year_mm']>201902)]\n",
    "    control_pre=matrix[(matrix['Store Number']==control)&(matrix['year_mm']<201902)]\n",
    "    control_post=matrix[(matrix['Store Number']==control)&(matrix['year_mm']>201902)]\n",
    "#grouping by months and sum\n",
    "    Trial_gr=Trial_pre.groupby('year_mm').agg({'Total Sales':'sum','Number of Customers':'sum'}).reset_index()\n",
    "    control_gr=control_pre.groupby('year_mm').agg({'Total Sales':'sum','Number of Customers':'sum'}).reset_index()\n",
    "    Trial_go=Trial_post.groupby('year_mm').agg({'Total Sales':'sum','Number of Customers':'sum'}).reset_index()\n",
    "    control_go=control_post.groupby('year_mm').agg({'Total Sales':'sum','Number of Customers':'sum'}).reset_index()\n",
    "#merging\n",
    "    pre=pd.merge(Trial_gr,control_gr,on='year_mm')\n",
    "    post=pd.merge(Trial_go,control_go,on='year_mm')\n",
    "#ratios\n",
    "    pre['ratio_ts']=pre['Total Sales_x']/pre['Total Sales_y']\n",
    "    pre['ratio_Noc']=pre['Number of Customers_x']/pre['Number of Customers_y']\n",
    "    post['ratio_ts']=post['Total Sales_x']/post['Total Sales_y']\n",
    "    post['ratio_Noc']=post['Number of Customers_x']/post['Number of Customers_y']\n",
    "###averages\n",
    "    pre_avg_ts=pre['ratio_ts'].mean()\n",
    "    pre_avg_Noc=pre['ratio_Noc'].mean()\n",
    "    post_avg_ts=post['ratio_ts'].mean()\n",
    "    post_avg_Noc=post['ratio_Noc'].mean()\n",
    "#Calculating uplifting\n",
    "    uplift_ts=(post_avg_ts-pre_avg_ts)/pre_avg_ts*100\n",
    "    uplift_Noc=(post_avg_Noc-pre_avg_Noc)/pre_avg_Noc*100\n",
    "    return {\n",
    "        'Trial Store': trial,\n",
    "        'Control Store': control,\n",
    "        'Uplift_Sales (%)': round(uplift_ts, 2),\n",
    "        'Uplift_Customers (%)': round(uplift_Noc, 2)\n",
    "    }\n",
    "trial = [77, 86, 88]\n",
    "control = [233, 155, 237]\n",
    "results = []\n",
    "for trial, control in zip(trial, control):\n",
    "    results.append(uplift(trial, control))\n",
    "# Converting the outcome to DataFrame\n",
    "Summary_uplifting = pd.DataFrame(results)\n",
    "print (Summary_uplifting)"
   ]
  }
 ],
 "metadata": {
  "kernelspec": {
   "display_name": "Python 3 (ipykernel)",
   "language": "python",
   "name": "python3"
  },
  "language_info": {
   "codemirror_mode": {
    "name": "ipython",
    "version": 3
   },
   "file_extension": ".py",
   "mimetype": "text/x-python",
   "name": "python",
   "nbconvert_exporter": "python",
   "pygments_lexer": "ipython3",
   "version": "3.10.11"
  }
 },
 "nbformat": 4,
 "nbformat_minor": 5
}
