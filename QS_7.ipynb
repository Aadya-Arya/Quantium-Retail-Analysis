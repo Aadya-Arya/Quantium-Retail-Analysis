{
 "cells": [
  {
   "cell_type": "code",
   "execution_count": 4,
   "id": "f9991e64-b5b6-4ccb-8610-01d248bb731e",
   "metadata": {},
   "outputs": [
    {
     "name": "stdout",
     "output_type": "stream",
     "text": [
      "   Trial Store                                     Recommendation\n",
      "0           77  Campaign successful — recommend rollout to sim...\n",
      "1           86  Campaign ineffective — do not rollout without ...\n",
      "2           88  Campaign successful — recommend rollout to sim...\n"
     ]
    }
   ],
   "source": [
    "import pandas as pd\n",
    "results = pd.DataFrame({\n",
    "    'Trial Store': [77, 86, 88],\n",
    "    'Uplifting in Sales (%)': [23.46, 8.65, 16.62],\n",
    "    'Uplifting in Customers (%)': [18.86, 7.39, 5.60],\n",
    "    'P-value (Sales)': [0.02, 0.34, 0.01],\n",
    "    'P-value (Customers)': [0.03, 0.25, 0.04]\n",
    "})\n",
    "def recommendation(row):\n",
    "    if row['P-value (Sales)'] < 0.05 and row['P-value (Customers)'] < 0.05:\n",
    "        return 'Campaign successful — recommend rollout to similar stores.'\n",
    "    elif row['P-value (Sales)'] < 0.05:\n",
    "        return 'Good sales uplift, but customer increase not significant — investigate customer engagement for the trial store.'\n",
    "    else:\n",
    "        return  'Campaign ineffective — do not rollout without changes.'\n",
    "\n",
    "results['Recommendation'] = results.apply(recommendation, axis=1)\n",
    "\n",
    "print(results[['Trial Store', 'Recommendation']])\n"
   ]
  }
 ],
 "metadata": {
  "kernelspec": {
   "display_name": "Python 3 (ipykernel)",
   "language": "python",
   "name": "python3"
  },
  "language_info": {
   "codemirror_mode": {
    "name": "ipython",
    "version": 3
   },
   "file_extension": ".py",
   "mimetype": "text/x-python",
   "name": "python",
   "nbconvert_exporter": "python",
   "pygments_lexer": "ipython3",
   "version": "3.10.11"
  }
 },
 "nbformat": 4,
 "nbformat_minor": 5
}
