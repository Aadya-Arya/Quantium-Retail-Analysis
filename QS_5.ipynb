{
 "cells": [
  {
   "cell_type": "code",
   "execution_count": 9,
   "id": "1ece8b2b-1399-4086-9fbb-48f2194d86f4",
   "metadata": {},
   "outputs": [
    {
     "name": "stdout",
     "output_type": "stream",
     "text": [
      "   Trial Store  Control Store  T- test statistic  P-value Significant\n",
      "0           77            233               1.42     0.24          No\n",
      "1           86            155               1.11     0.34          No\n",
      "2           88            237               4.67     0.00         Yes\n"
     ]
    }
   ],
   "source": [
    "%run \"QS_1.ipynb\"\n",
    "transaction['DATE'] = pd.to_datetime(transaction['DATE'], origin='1899-12-30', unit='D')\n",
    "transaction['year_mm']=transaction['DATE'].dt.strftime('%Y%m').astype(int)\n",
    "ts=transaction.groupby(['year_mm','STORE_NBR'])['TOT_SALES'].sum().reset_index()\n",
    "NoC=transaction.groupby(['year_mm','STORE_NBR'])['LYLTY_CARD_NBR'].nunique().reset_index()\n",
    "TxNo=transaction.groupby(['year_mm','STORE_NBR'])['TXN_ID'].nunique().reset_index()\n",
    "Pq=transaction.groupby(['year_mm','STORE_NBR'])['PROD_QTY'].sum().reset_index()\n",
    "matrix=pd.merge(ts,NoC,on=['year_mm','STORE_NBR'])\n",
    "matrix=pd.merge(TxNo,matrix,on=['year_mm','STORE_NBR'])\n",
    "matrix=pd.merge(Pq,matrix,on=['year_mm','STORE_NBR'])\n",
    "matrix.rename(columns={\n",
    "    'STORE_NBR':'Store Number',\n",
    "    'PROD_QTY':'Total Chips',\n",
    "    'TXN_ID':' Number of Transactions',\n",
    "    'LYLTY_CARD_NBR':'Number of Customers',\n",
    "    'TOT_SALES':'Total Sales'},inplace=True) \n",
    "from scipy.stats import ttest_ind\n",
    "def uplift(trial,control):\n",
    "    Trial_pre=matrix[(matrix['Store Number']==trial)&(matrix['year_mm']<201902)]\n",
    "    Trial_post=matrix[(matrix['Store Number']==trial)&(matrix['year_mm']>201902)]\n",
    "    control_pre=matrix[(matrix['Store Number']==control)&(matrix['year_mm']<201902)]\n",
    "    control_post=matrix[(matrix['Store Number']==control)&(matrix['year_mm']>201902)]\n",
    "\n",
    "    Trial_gr=Trial_pre.groupby('year_mm').agg({'Total Sales':'sum','Number of Customers':'sum'}).reset_index()\n",
    "    control_gr=control_pre.groupby('year_mm').agg({'Total Sales':'sum','Number of Customers':'sum'}).reset_index()\n",
    "    Trial_go=Trial_post.groupby('year_mm').agg({'Total Sales':'sum','Number of Customers':'sum'}).reset_index()\n",
    "    control_go=control_post.groupby('year_mm').agg({'Total Sales':'sum','Number of Customers':'sum'}).reset_index()\n",
    "\n",
    "    pre=pd.merge(Trial_gr,control_gr,on='year_mm')\n",
    "    post=pd.merge(Trial_go,control_go,on='year_mm')\n",
    "\n",
    "    pre['ratio_ts']=pre['Total Sales_x']/pre['Total Sales_y']\n",
    "    pre['ratio_Noc']=pre['Number of Customers_x']/pre['Number of Customers_y']\n",
    "    post['ratio_ts']=post['Total Sales_x']/post['Total Sales_y']\n",
    "    post['ratio_Noc']=post['Number of Customers_x']/post['Number of Customers_y']\n",
    "\n",
    "    t_stat, p_value = ttest_ind(post['ratio_ts'], pre['ratio_ts'], equal_var=False)\n",
    "    t_stat_cust, p_value_cust = ttest_ind(post['ratio_Noc'], pre['ratio_Noc'], equal_var=False)\n",
    "    return{\n",
    "    'Trial Store':trial,\n",
    "    'Control Store':control,\n",
    "    'T- test statistic': round(t_stat, 2),\n",
    "    'P-value': round(p_value, 2),\n",
    "    'Significant': 'Yes' if p_value< 0.05 else 'No'\n",
    "    }    \n",
    "trial = [77, 86, 88]\n",
    "control = [233, 155, 237]\n",
    "results_total_sales = []\n",
    "for trial, control in zip(trial, control):\n",
    "    results_total_sales.append(uplift(trial, control))\n",
    "test_summary_totalsales = pd.DataFrame(results_total_sales)\n",
    "print (test_summary_totalsales)"
   ]
  }
 ],
 "metadata": {
  "kernelspec": {
   "display_name": "Python 3 (ipykernel)",
   "language": "python",
   "name": "python3"
  },
  "language_info": {
   "codemirror_mode": {
    "name": "ipython",
    "version": 3
   },
   "file_extension": ".py",
   "mimetype": "text/x-python",
   "name": "python",
   "nbconvert_exporter": "python",
   "pygments_lexer": "ipython3",
   "version": "3.10.11"
  }
 },
 "nbformat": 4,
 "nbformat_minor": 5
}
