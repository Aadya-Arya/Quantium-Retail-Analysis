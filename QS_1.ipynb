{
 "cells": [
  {
   "cell_type": "code",
   "execution_count": 10,
   "id": "54691bdb-fbbd-4b5f-98c9-c0dcd84ac7a7",
   "metadata": {},
   "outputs": [
    {
     "data": {
      "text/plain": [
       "LIFESTAGE               PREMIUM_CUSTOMER\n",
       "MIDAGE SINGLES/COUPLES  Budget               35514.80\n",
       "                        Mainstream           90803.85\n",
       "                        Premium              58432.65\n",
       "NEW FAMILIES            Budget               21928.45\n",
       "                        Mainstream           17013.90\n",
       "                        Premium              11491.10\n",
       "OLDER FAMILIES          Budget              168363.25\n",
       "                        Mainstream          103445.55\n",
       "                        Premium              80658.40\n",
       "OLDER SINGLES/COUPLES   Budget              136769.80\n",
       "                        Mainstream          133393.80\n",
       "                        Premium             132263.15\n",
       "RETIREES                Budget              113147.80\n",
       "                        Mainstream          155677.05\n",
       "                        Premium              97646.05\n",
       "YOUNG FAMILIES          Budget              139345.85\n",
       "                        Mainstream           92788.75\n",
       "                        Premium              84025.50\n",
       "YOUNG SINGLES/COUPLES   Budget               61141.60\n",
       "                        Mainstream          157621.60\n",
       "                        Premium              41642.10\n",
       "Name: TOT_SALES, dtype: float64"
      ]
     },
     "execution_count": 10,
     "metadata": {},
     "output_type": "execute_result"
    }
   ],
   "source": [
    "import pandas as pd\n",
    "transaction=pd.read_csv('Book1.csv')\n",
    "purchase=pd.read_csv('QVI_purchase_behaviour.csv')\n",
    "transaction=transaction[transaction.PROD_QTY<50]\n",
    "merge=pd.merge(transaction,purchase,on='LYLTY_CARD_NBR')\n",
    "Total_sales_by_customer=merge.groupby(['LIFESTAGE','PREMIUM_CUSTOMER'])['TOT_SALES'].sum()\n",
    "Total_sales_by_customer"
   ]
  }
 ],
 "metadata": {
  "kernelspec": {
   "display_name": "Python 3 (ipykernel)",
   "language": "python",
   "name": "python3"
  },
  "language_info": {
   "codemirror_mode": {
    "name": "ipython",
    "version": 3
   },
   "file_extension": ".py",
   "mimetype": "text/x-python",
   "name": "python",
   "nbconvert_exporter": "python",
   "pygments_lexer": "ipython3",
   "version": "3.10.11"
  }
 },
 "nbformat": 4,
 "nbformat_minor": 5
}
