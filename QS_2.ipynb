{
 "cells": [
  {
   "cell_type": "code",
   "execution_count": 7,
   "id": "ed2159dd-8e82-4778-b80a-9a0df0358cd3",
   "metadata": {},
   "outputs": [
    {
     "data": {
      "text/plain": [
       "BRAND     LIFESTAGE              PREMIUM_CUSTOMER\n",
       "Kettle    YOUNG SINGLES/COUPLES  Mainstream          35423.6\n",
       "          OLDER FAMILIES         Budget              32058.0\n",
       "          RETIREES               Mainstream          31652.4\n",
       "          OLDER SINGLES/COUPLES  Budget              29066.4\n",
       "                                 Premium             27943.4\n",
       "                                                      ...   \n",
       "Burger    NEW FAMILIES           Premium                29.9\n",
       "SUNBITES  NEW FAMILIES           Mainstream             28.9\n",
       "Sunbites  NEW FAMILIES           Mainstream             15.3\n",
       "French    NEW FAMILIES           Premium                15.0\n",
       "SUNBITES  NEW FAMILIES           Premium                11.9\n",
       "Name: TOT_SALES, Length: 525, dtype: float64"
      ]
     },
     "execution_count": 7,
     "metadata": {},
     "output_type": "execute_result"
    }
   ],
   "source": [
    "%run \"QS_1.ipynb\"\n",
    "transaction['BRAND'] = transaction['PROD_NAME'].str.split().str[0]\n",
    "transaction['BRAND']=transaction['BRAND'].replace({\n",
    "    'Smith': 'Smiths',\n",
    "    'Red':'RRD',\n",
    "    'Dorito':'Doritos',\n",
    "    'WW': 'WOOLWORTHS',\n",
    "    'NCC': 'NATURAL',\n",
    "    'Infzns': 'INFUZIONS',\n",
    "    'Snbts': 'SUNBITES',\n",
    "    'Grain': 'GRNWAVES',\n",
    "    'GrnWves':'GRNWAVES'})\n",
    "transaction['Revenue']=transaction['PROD_QTY']*transaction['TOT_SALES']\n",
    "merge=pd.merge(transaction,purchase,on='LYLTY_CARD_NBR')\n",
    "SalesOf_brand_by_customers=merge.groupby(['BRAND','LIFESTAGE','PREMIUM_CUSTOMER'])['TOT_SALES'].sum().sort_values(ascending=False)\n",
    "SalesOf_brand_by_customers"
   ]
  }
 ],
 "metadata": {
  "kernelspec": {
   "display_name": "Python 3 (ipykernel)",
   "language": "python",
   "name": "python3"
  },
  "language_info": {
   "codemirror_mode": {
    "name": "ipython",
    "version": 3
   },
   "file_extension": ".py",
   "mimetype": "text/x-python",
   "name": "python",
   "nbconvert_exporter": "python",
   "pygments_lexer": "ipython3",
   "version": "3.10.11"
  }
 },
 "nbformat": 4,
 "nbformat_minor": 5
}
