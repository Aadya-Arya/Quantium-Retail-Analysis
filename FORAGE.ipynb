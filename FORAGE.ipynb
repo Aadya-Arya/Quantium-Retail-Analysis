{
 "cells": [
  {
   "cell_type": "code",
   "execution_count": 4,
   "id": "843c4c53-fdeb-47df-a1f9-64c5b05c936d",
   "metadata": {},
   "outputs": [
    {
     "data": {
      "text/html": [
       "<div>\n",
       "<style scoped>\n",
       "    .dataframe tbody tr th:only-of-type {\n",
       "        vertical-align: middle;\n",
       "    }\n",
       "\n",
       "    .dataframe tbody tr th {\n",
       "        vertical-align: top;\n",
       "    }\n",
       "\n",
       "    .dataframe thead th {\n",
       "        text-align: right;\n",
       "    }\n",
       "</style>\n",
       "<table border=\"1\" class=\"dataframe\">\n",
       "  <thead>\n",
       "    <tr style=\"text-align: right;\">\n",
       "      <th></th>\n",
       "      <th>DATE</th>\n",
       "      <th>STORE_NBR</th>\n",
       "      <th>LYLTY_CARD_NBR</th>\n",
       "      <th>TXN_ID</th>\n",
       "      <th>PROD_NBR</th>\n",
       "      <th>PROD_NAME</th>\n",
       "      <th>PROD_QTY</th>\n",
       "      <th>TOT_SALES</th>\n",
       "    </tr>\n",
       "  </thead>\n",
       "  <tbody>\n",
       "    <tr>\n",
       "      <th>0</th>\n",
       "      <td>43390</td>\n",
       "      <td>1</td>\n",
       "      <td>1000</td>\n",
       "      <td>1</td>\n",
       "      <td>5</td>\n",
       "      <td>Natural Chip        Compny SeaSalt175g</td>\n",
       "      <td>2</td>\n",
       "      <td>6.0</td>\n",
       "    </tr>\n",
       "    <tr>\n",
       "      <th>1</th>\n",
       "      <td>43599</td>\n",
       "      <td>1</td>\n",
       "      <td>1307</td>\n",
       "      <td>348</td>\n",
       "      <td>66</td>\n",
       "      <td>CCs Nacho Cheese    175g</td>\n",
       "      <td>3</td>\n",
       "      <td>6.3</td>\n",
       "    </tr>\n",
       "    <tr>\n",
       "      <th>2</th>\n",
       "      <td>43605</td>\n",
       "      <td>1</td>\n",
       "      <td>1343</td>\n",
       "      <td>383</td>\n",
       "      <td>61</td>\n",
       "      <td>Smiths Crinkle Cut  Chips Chicken 170g</td>\n",
       "      <td>2</td>\n",
       "      <td>2.9</td>\n",
       "    </tr>\n",
       "    <tr>\n",
       "      <th>3</th>\n",
       "      <td>43329</td>\n",
       "      <td>2</td>\n",
       "      <td>2373</td>\n",
       "      <td>974</td>\n",
       "      <td>69</td>\n",
       "      <td>Smiths Chip Thinly  S/Cream&amp;Onion 175g</td>\n",
       "      <td>5</td>\n",
       "      <td>15.0</td>\n",
       "    </tr>\n",
       "    <tr>\n",
       "      <th>4</th>\n",
       "      <td>43330</td>\n",
       "      <td>2</td>\n",
       "      <td>2426</td>\n",
       "      <td>1038</td>\n",
       "      <td>108</td>\n",
       "      <td>Kettle Tortilla ChpsHny&amp;Jlpno Chili 150g</td>\n",
       "      <td>3</td>\n",
       "      <td>13.8</td>\n",
       "    </tr>\n",
       "  </tbody>\n",
       "</table>\n",
       "</div>"
      ],
      "text/plain": [
       "    DATE  STORE_NBR  LYLTY_CARD_NBR  TXN_ID  PROD_NBR  \\\n",
       "0  43390          1            1000       1         5   \n",
       "1  43599          1            1307     348        66   \n",
       "2  43605          1            1343     383        61   \n",
       "3  43329          2            2373     974        69   \n",
       "4  43330          2            2426    1038       108   \n",
       "\n",
       "                                  PROD_NAME  PROD_QTY  TOT_SALES  \n",
       "0    Natural Chip        Compny SeaSalt175g         2        6.0  \n",
       "1                  CCs Nacho Cheese    175g         3        6.3  \n",
       "2    Smiths Crinkle Cut  Chips Chicken 170g         2        2.9  \n",
       "3    Smiths Chip Thinly  S/Cream&Onion 175g         5       15.0  \n",
       "4  Kettle Tortilla ChpsHny&Jlpno Chili 150g         3       13.8  "
      ]
     },
     "execution_count": 4,
     "metadata": {},
     "output_type": "execute_result"
    }
   ],
   "source": [
    "import pandas as pd\n",
    "transaction=pd.read_csv('Book1.csv')\n",
    "purchase=pd.read_csv('QVI_purchase_behaviour.csv')\n",
    "transaction.head()"
   ]
  },
  {
   "cell_type": "markdown",
   "id": "62eda8fc-ba50-4ead-9f5b-8a78919f6887",
   "metadata": {},
   "source": [
    "DATA CLEANING"
   ]
  },
  {
   "cell_type": "code",
   "execution_count": 5,
   "id": "1f7624bf-35f0-402d-b201-91d790f24748",
   "metadata": {},
   "outputs": [
    {
     "data": {
      "text/plain": [
       "(np.int64(200), np.int64(1))"
      ]
     },
     "execution_count": 5,
     "metadata": {},
     "output_type": "execute_result"
    }
   ],
   "source": [
    "transaction['TOT_SALES'].max(),transaction['TOT_SALES'].min()\n",
    "transaction['PROD_QTY'].max(),transaction['PROD_QTY'].min()"
   ]
  },
  {
   "cell_type": "code",
   "execution_count": 8,
   "id": "5128f705-3f69-42a7-8b12-4ac8ba2aba1d",
   "metadata": {},
   "outputs": [
    {
     "data": {
      "text/html": [
       "<div>\n",
       "<style scoped>\n",
       "    .dataframe tbody tr th:only-of-type {\n",
       "        vertical-align: middle;\n",
       "    }\n",
       "\n",
       "    .dataframe tbody tr th {\n",
       "        vertical-align: top;\n",
       "    }\n",
       "\n",
       "    .dataframe thead th {\n",
       "        text-align: right;\n",
       "    }\n",
       "</style>\n",
       "<table border=\"1\" class=\"dataframe\">\n",
       "  <thead>\n",
       "    <tr style=\"text-align: right;\">\n",
       "      <th></th>\n",
       "      <th>DATE</th>\n",
       "      <th>STORE_NBR</th>\n",
       "      <th>LYLTY_CARD_NBR</th>\n",
       "      <th>TXN_ID</th>\n",
       "      <th>PROD_NBR</th>\n",
       "      <th>PROD_NAME</th>\n",
       "      <th>PROD_QTY</th>\n",
       "      <th>TOT_SALES</th>\n",
       "    </tr>\n",
       "  </thead>\n",
       "  <tbody>\n",
       "    <tr>\n",
       "      <th>69762</th>\n",
       "      <td>43331</td>\n",
       "      <td>226</td>\n",
       "      <td>226000</td>\n",
       "      <td>226201</td>\n",
       "      <td>4</td>\n",
       "      <td>Dorito Corn Chp     Supreme 380g</td>\n",
       "      <td>200</td>\n",
       "      <td>650.0</td>\n",
       "    </tr>\n",
       "    <tr>\n",
       "      <th>69763</th>\n",
       "      <td>43605</td>\n",
       "      <td>226</td>\n",
       "      <td>226000</td>\n",
       "      <td>226210</td>\n",
       "      <td>4</td>\n",
       "      <td>Dorito Corn Chp     Supreme 380g</td>\n",
       "      <td>200</td>\n",
       "      <td>650.0</td>\n",
       "    </tr>\n",
       "  </tbody>\n",
       "</table>\n",
       "</div>"
      ],
      "text/plain": [
       "        DATE  STORE_NBR  LYLTY_CARD_NBR  TXN_ID  PROD_NBR  \\\n",
       "69762  43331        226          226000  226201         4   \n",
       "69763  43605        226          226000  226210         4   \n",
       "\n",
       "                              PROD_NAME  PROD_QTY  TOT_SALES  \n",
       "69762  Dorito Corn Chp     Supreme 380g       200      650.0  \n",
       "69763  Dorito Corn Chp     Supreme 380g       200      650.0  "
      ]
     },
     "execution_count": 8,
     "metadata": {},
     "output_type": "execute_result"
    }
   ],
   "source": [
    "transaction[transaction.PROD_QTY>50]"
   ]
  },
  {
   "cell_type": "code",
   "execution_count": 6,
   "id": "0d056d5b-90fb-4b74-8802-6a7a7c95c07b",
   "metadata": {},
   "outputs": [],
   "source": [
    "transaction=transaction[transaction.PROD_QTY<50]\n",
    "transaction['DATE'] = pd.to_datetime(transaction['DATE'], origin='1899-12-30', unit='D')"
   ]
  },
  {
   "cell_type": "markdown",
   "id": "c1be9d26-bfa4-4c50-a5ba-1570c7f293f1",
   "metadata": {},
   "source": [
    "EDA"
   ]
  },
  {
   "cell_type": "code",
   "execution_count": 7,
   "id": "47ca0ab3-4ca5-4903-a786-bb2715ebd84f",
   "metadata": {},
   "outputs": [],
   "source": [
    "transaction['PACK_SIZE'] = transaction['PROD_NAME'].str.extract(r'(\\d+)g').astype(float)\n",
    "transaction['BRAND'] = transaction['PROD_NAME'].str.split().str[0]\n",
    "transaction['BRAND']=transaction['BRAND'].replace({\n",
    "    'Smith': 'Smiths',\n",
    "    'Red':'RRD',\n",
    "    'Dorito':'Doritos',\n",
    "    'WW': 'WOOLWORTHS',\n",
    "    'NCC': 'NATURAL',\n",
    "    'Infzns': 'INFUZIONS',\n",
    "    'Snbts': 'SUNBITES',\n",
    "    'Grain': 'GRNWAVES',\n",
    "    'GrnWves':'GRNWAVES'})"
   ]
  },
  {
   "cell_type": "code",
   "execution_count": 8,
   "id": "3495a569-145a-4ddf-996f-a84db6b31de5",
   "metadata": {},
   "outputs": [
    {
     "data": {
      "text/html": [
       "<div>\n",
       "<style scoped>\n",
       "    .dataframe tbody tr th:only-of-type {\n",
       "        vertical-align: middle;\n",
       "    }\n",
       "\n",
       "    .dataframe tbody tr th {\n",
       "        vertical-align: top;\n",
       "    }\n",
       "\n",
       "    .dataframe thead th {\n",
       "        text-align: right;\n",
       "    }\n",
       "</style>\n",
       "<table border=\"1\" class=\"dataframe\">\n",
       "  <thead>\n",
       "    <tr style=\"text-align: right;\">\n",
       "      <th></th>\n",
       "      <th>LYLTY_CARD_NBR</th>\n",
       "      <th>LIFESTAGE</th>\n",
       "      <th>PREMIUM_CUSTOMER</th>\n",
       "    </tr>\n",
       "  </thead>\n",
       "  <tbody>\n",
       "    <tr>\n",
       "      <th>0</th>\n",
       "      <td>1000</td>\n",
       "      <td>YOUNG SINGLES/COUPLES</td>\n",
       "      <td>Premium</td>\n",
       "    </tr>\n",
       "    <tr>\n",
       "      <th>1</th>\n",
       "      <td>1002</td>\n",
       "      <td>YOUNG SINGLES/COUPLES</td>\n",
       "      <td>Mainstream</td>\n",
       "    </tr>\n",
       "    <tr>\n",
       "      <th>2</th>\n",
       "      <td>1003</td>\n",
       "      <td>YOUNG FAMILIES</td>\n",
       "      <td>Budget</td>\n",
       "    </tr>\n",
       "    <tr>\n",
       "      <th>3</th>\n",
       "      <td>1004</td>\n",
       "      <td>OLDER SINGLES/COUPLES</td>\n",
       "      <td>Mainstream</td>\n",
       "    </tr>\n",
       "    <tr>\n",
       "      <th>4</th>\n",
       "      <td>1005</td>\n",
       "      <td>MIDAGE SINGLES/COUPLES</td>\n",
       "      <td>Mainstream</td>\n",
       "    </tr>\n",
       "  </tbody>\n",
       "</table>\n",
       "</div>"
      ],
      "text/plain": [
       "   LYLTY_CARD_NBR               LIFESTAGE PREMIUM_CUSTOMER\n",
       "0            1000   YOUNG SINGLES/COUPLES          Premium\n",
       "1            1002   YOUNG SINGLES/COUPLES       Mainstream\n",
       "2            1003          YOUNG FAMILIES           Budget\n",
       "3            1004   OLDER SINGLES/COUPLES       Mainstream\n",
       "4            1005  MIDAGE SINGLES/COUPLES       Mainstream"
      ]
     },
     "execution_count": 8,
     "metadata": {},
     "output_type": "execute_result"
    }
   ],
   "source": [
    "transaction.head()\n",
    "purchase.head()"
   ]
  },
  {
   "cell_type": "code",
   "execution_count": 9,
   "id": "eac90b8f-7134-44b5-ad01-d3d581fe0976",
   "metadata": {},
   "outputs": [
    {
     "data": {
      "text/plain": [
       "LYLTY_CARD_NBR  PREMIUM_CUSTOMER\n",
       "1000            Premium              6.0\n",
       "1002            Mainstream           2.7\n",
       "1003            Budget               6.6\n",
       "1004            Mainstream           1.9\n",
       "1005            Mainstream           2.8\n",
       "                                    ... \n",
       "2370651         Mainstream          13.0\n",
       "2370701         Mainstream           7.2\n",
       "2370751         Premium              9.2\n",
       "2370961         Budget              18.6\n",
       "2373711         Mainstream          11.4\n",
       "Name: TOT_SALES, Length: 72636, dtype: float64"
      ]
     },
     "execution_count": 9,
     "metadata": {},
     "output_type": "execute_result"
    }
   ],
   "source": [
    "# QUESTION 1\n",
    "merge=pd.merge(transaction,purchase,on='LYLTY_CARD_NBR')\n",
    "x=merge.groupby(['LYLTY_CARD_NBR','PREMIUM_CUSTOMER'])['TOT_SALES'].sum()\n",
    "x"
   ]
  },
  {
   "cell_type": "code",
   "execution_count": 18,
   "id": "62aef22e-1591-4259-8562-049d9907106d",
   "metadata": {},
   "outputs": [],
   "source": [
    "#QUESTION 2\n",
    "transaction['Revenue']=transaction['PROD_QTY']*transaction['TOT_SALES']\n",
    "merge1=pd.merge(transaction,purchase,on='LYLTY_CARD_NBR')\n",
    "x=merge1.groupby(['BRAND','PREMIUM_CUSTOMER'])['TOT_SALES'].sum().sort_values(ascending=False)\n"
   ]
  },
  {
   "cell_type": "code",
   "execution_count": 21,
   "id": "7bb0f8e1-34c6-419a-a0a0-6b2555fafd2d",
   "metadata": {},
   "outputs": [],
   "source": [
    "#QUESTION (matrix by me)"
   ]
  },
  {
   "cell_type": "code",
   "execution_count": 22,
   "id": "144b48d2-5aa5-4d5c-9bf8-e189afd2a961",
   "metadata": {},
   "outputs": [],
   "source": [
    "#QUESTION 3 (COMPARING TRIAL AND CONTROL STORES)\n",
    "#transaction['year_mm']=transaction['DATE'].dt.strftime('%Y%m').astype(int)\n",
    "ts=transaction.groupby(['year_mm','STORE_NBR'])['TOT_SALES'].sum().reset_index()\n",
    "NoC=transaction.groupby(['year_mm','STORE_NBR'])['LYLTY_CARD_NBR'].nunique().reset_index()\n",
    "TxNo=transaction.groupby(['year_mm','STORE_NBR'])['TXN_ID'].nunique().reset_index()\n",
    "Pq=transaction.groupby(['year_mm','STORE_NBR'])['PROD_QTY'].sum().reset_index()"
   ]
  },
  {
   "cell_type": "code",
   "execution_count": 23,
   "id": "62adc377-cc01-4184-b930-8d3b792151b5",
   "metadata": {},
   "outputs": [],
   "source": [
    "matrix=pd.merge(ts,NoC,on=['year_mm','STORE_NBR'])\n",
    "matrix=pd.merge(TxNo,matrix,on=['year_mm','STORE_NBR'])\n",
    "matrix=pd.merge(Pq,matrix,on=['year_mm','STORE_NBR'])\n",
    "matrix.rename(columns={\n",
    "    'STORE_NBR':'Store Number',\n",
    "    'PROD_QTY':'Total Chips',\n",
    "    'TXN_ID':' Number of Transactions',\n",
    "    'LYLTY_CARD_NBR':'Number of Customers',\n",
    "    'TOT_SALES':'Total Sales'},inplace=True)"
   ]
  },
  {
   "cell_type": "code",
   "execution_count": 24,
   "id": "6f24d5c2-a03e-43d1-88dc-4cce1eaac10f",
   "metadata": {},
   "outputs": [
    {
     "data": {
      "text/html": [
       "<div>\n",
       "<style scoped>\n",
       "    .dataframe tbody tr th:only-of-type {\n",
       "        vertical-align: middle;\n",
       "    }\n",
       "\n",
       "    .dataframe tbody tr th {\n",
       "        vertical-align: top;\n",
       "    }\n",
       "\n",
       "    .dataframe thead th {\n",
       "        text-align: right;\n",
       "    }\n",
       "</style>\n",
       "<table border=\"1\" class=\"dataframe\">\n",
       "  <thead>\n",
       "    <tr style=\"text-align: right;\">\n",
       "      <th></th>\n",
       "      <th>year_mm</th>\n",
       "      <th>Store Number</th>\n",
       "      <th>Total Chips</th>\n",
       "      <th>Number of Transactions</th>\n",
       "      <th>Total Sales</th>\n",
       "      <th>Number of Customers</th>\n",
       "    </tr>\n",
       "  </thead>\n",
       "  <tbody>\n",
       "    <tr>\n",
       "      <th>0</th>\n",
       "      <td>201807</td>\n",
       "      <td>1</td>\n",
       "      <td>62</td>\n",
       "      <td>52</td>\n",
       "      <td>206.9</td>\n",
       "      <td>49</td>\n",
       "    </tr>\n",
       "    <tr>\n",
       "      <th>1</th>\n",
       "      <td>201807</td>\n",
       "      <td>2</td>\n",
       "      <td>46</td>\n",
       "      <td>41</td>\n",
       "      <td>150.8</td>\n",
       "      <td>39</td>\n",
       "    </tr>\n",
       "    <tr>\n",
       "      <th>2</th>\n",
       "      <td>201807</td>\n",
       "      <td>3</td>\n",
       "      <td>271</td>\n",
       "      <td>138</td>\n",
       "      <td>1205.7</td>\n",
       "      <td>112</td>\n",
       "    </tr>\n",
       "    <tr>\n",
       "      <th>3</th>\n",
       "      <td>201807</td>\n",
       "      <td>4</td>\n",
       "      <td>318</td>\n",
       "      <td>158</td>\n",
       "      <td>1399.9</td>\n",
       "      <td>128</td>\n",
       "    </tr>\n",
       "    <tr>\n",
       "      <th>4</th>\n",
       "      <td>201807</td>\n",
       "      <td>5</td>\n",
       "      <td>240</td>\n",
       "      <td>120</td>\n",
       "      <td>812.0</td>\n",
       "      <td>93</td>\n",
       "    </tr>\n",
       "  </tbody>\n",
       "</table>\n",
       "</div>"
      ],
      "text/plain": [
       "   year_mm  Store Number  Total Chips   Number of Transactions  Total Sales  \\\n",
       "0   201807             1           62                       52        206.9   \n",
       "1   201807             2           46                       41        150.8   \n",
       "2   201807             3          271                      138       1205.7   \n",
       "3   201807             4          318                      158       1399.9   \n",
       "4   201807             5          240                      120        812.0   \n",
       "\n",
       "   Number of Customers  \n",
       "0                   49  \n",
       "1                   39  \n",
       "2                  112  \n",
       "3                  128  \n",
       "4                   93  "
      ]
     },
     "execution_count": 24,
     "metadata": {},
     "output_type": "execute_result"
    }
   ],
   "source": [
    "pre_trial_store=matrix[matrix['year_mm']<201902]\n",
    "months_per_store=matrix.groupby('Store Number')['year_mm'].nunique()\n",
    "a=months_per_store[months_per_store==12].index\n",
    "pre_trial_store= pre_trial_store[pre_trial_store['Store Number'].isin(a)]\n",
    "pre_trial_store.head(5)"
   ]
  },
  {
   "cell_type": "code",
   "execution_count": 25,
   "id": "1194cbb4-17e7-4a55-9c6c-0ce7abb8bd2d",
   "metadata": {},
   "outputs": [],
   "source": [
    "C1=pre_trial_store[pre_trial_store['Store Number']==77]\n",
    "C2=pre_trial_store[pre_trial_store['Store Number']!=77]"
   ]
  },
  {
   "cell_type": "code",
   "execution_count": 26,
   "id": "04f9572b-fef1-4dd8-96cc-a3a48152cb35",
   "metadata": {},
   "outputs": [],
   "source": [
    "import numpy as np\n",
    "import pandas as pd\n",
    "\n",
    "def Best_Control_Store(Trial, pre_trial_store):\n",
    "    \"\"\"\n",
    "    Find best control store for the given trial store, from pre-trial DataFrame T4.\n",
    "    Uses correlation and magnitude difference in Total Sales and Number of Customers.\n",
    "    \"\"\"\n",
    "    # Split into trial store and candidate stores\n",
    "    C1 = pre_trial_store[pre_trial_store['Store Number'] == Trial]\n",
    "    C2 = pre_trial_store[pre_trial_store['Store Number'] != Trial]\n",
    "    Candidate_stores = C2['Store Number'].unique()\n",
    "\n",
    "    results = []\n",
    "\n",
    "    for store in Candidate_stores:\n",
    "        candidate_data = C2[C2['Store Number'] == store]\n",
    "\n",
    "        # Merge trial store data with candidate store data on year_mm\n",
    "        merged = pd.merge(\n",
    "            C1[['year_mm', 'Total Sales', 'Number of Customers']],\n",
    "            candidate_data[['year_mm', 'Total Sales', 'Number of Customers']],\n",
    "            on='year_mm',\n",
    "            suffixes=('_trial', '_control')\n",
    "        )\n",
    "        \n",
    "        # Calculate correlation\n",
    "        corr_sales = np.corrcoef(merged['Total Sales_trial'], merged['Total Sales_control'])[0,1]\n",
    "        corr_customers = np.corrcoef(merged['Number of Customers_trial'], merged['Number of Customers_control'])[0,1]\n",
    "        \n",
    "        # Calculate magnitude difference (lower is better)\n",
    "        mag_sales = np.mean(abs(merged['Total Sales_trial'] - merged['Total Sales_control'])) / np.mean(merged['Total Sales_trial'])\n",
    "        mag_customers = np.mean(abs(merged['Number of Customers_trial'] - merged['Number of Customers_control'])) / np.mean(merged['Number of Customers_trial'])\n",
    "        \n",
    "        # Combine into final score: higher correlation + lower magnitude difference → higher score\n",
    "        final_score = (corr_sales + corr_customers) / 2 + (1 - (mag_sales + mag_customers) / 2)\n",
    "\n",
    "        results.append({\n",
    "            'Candidate_Store': store,\n",
    "            'corr_sales': corr_sales,\n",
    "            'corr_customers': corr_customers,\n",
    "            'mag_sales': mag_sales,\n",
    "            'mag_customers': mag_customers,\n",
    "            'final_score': final_score\n",
    "        })\n",
    "\n",
    "    # Convert to DataFrame and pick best control store\n",
    "    results_matrix = pd.DataFrame(results)\n",
    "    best_store = results_matrix.loc[results_matrix['final_score'].idxmax(), 'Candidate_Store']\n",
    "\n",
    "    print(f\"\\n Best control store for trial store {Trial} is: {best_store}\")\n",
    "    return results_matrix, best_store\n"
   ]
  },
  {
   "cell_type": "code",
   "execution_count": 38,
   "id": "34327379-7a88-482f-8013-7d6f40753913",
   "metadata": {},
   "outputs": [
    {
     "name": "stdout",
     "output_type": "stream",
     "text": [
      "\n",
      " Best control store for trial store 77 is: 233\n"
     ]
    }
   ],
   "source": [
    "results_77, control_77 = Best_Control_Store(77, pre_trial_store)"
   ]
  },
  {
   "cell_type": "code",
   "execution_count": 41,
   "id": "1e109585-cdf1-43df-b5d9-bd2082f23d6e",
   "metadata": {},
   "outputs": [
    {
     "name": "stdout",
     "output_type": "stream",
     "text": [
      "\n",
      " Best control store for trial store 86 is: 155\n"
     ]
    }
   ],
   "source": [
    "results_77, control_77 = Best_Control_Store(86, pre_trial_store)"
   ]
  },
  {
   "cell_type": "code",
   "execution_count": 40,
   "id": "c9af345b-6054-4d7f-937a-be85b7edee5d",
   "metadata": {},
   "outputs": [
    {
     "name": "stdout",
     "output_type": "stream",
     "text": [
      "\n",
      " Best control store for trial store 88 is: 237\n"
     ]
    }
   ],
   "source": [
    "results_77, control_77 = Best_Control_Store(88, pre_trial_store)"
   ]
  },
  {
   "cell_type": "code",
   "execution_count": null,
   "id": "1b2860b9-9c63-4edf-b79f-10efda6ab19b",
   "metadata": {},
   "outputs": [],
   "source": [
    "##QUESTION 4 (POWER BI)"
   ]
  },
  {
   "cell_type": "code",
   "execution_count": 27,
   "id": "8e347828-7051-4982-88b4-3f949fa2cc9d",
   "metadata": {},
   "outputs": [
    {
     "data": {
      "image/png": "[encoded data removed]",
      "text/plain": [
       "<Figure size 800x400 with 1 Axes>"
      ]
     },
     "metadata": {},
     "output_type": "display_data"
    }
   ],
   "source": [
    "import matplotlib.pyplot as plt\n",
    "Trial1=pre_trial_store[pre_trial_store['Store Number']==77]\n",
    "Trial1_grouped = Trial1.groupby('year_mm')['Total Sales'].sum().reset_index()\n",
    "Control1=pre_trial_store[pre_trial_store['Store Number']==233]\n",
    "Control1_grouped = Control1.groupby('year_mm')['Total Sales'].sum().reset_index()\n",
    "plt.figure(figsize=(8,4))\n",
    "\n",
    "plt.plot(Trial1_grouped['year_mm'].astype(str), Trial1_grouped['Total Sales'], \n",
    "         marker='o', label='Trial Store 77')\n",
    "\n",
    "plt.plot(Control1_grouped['year_mm'].astype(str), Control1_grouped['Total Sales'], \n",
    "         marker='o', label='Control Store 233')\n",
    "\n",
    "plt.xlabel('Year-Month')\n",
    "plt.ylabel('Total Sales')\n",
    "plt.title('Pre-trial monthly total sales: Trial vs Control')\n",
    "plt.xticks(rotation=45)\n",
    "plt.legend()\n",
    "plt.show()"
   ]
  },
  {
   "cell_type": "code",
   "execution_count": 29,
   "id": "6ee00d5b-c100-4bf5-aa42-ec681165ebb2",
   "metadata": {},
   "outputs": [
    {
     "data": {
      "text/html": [
       "<div>\n",
       "<style scoped>\n",
       "    .dataframe tbody tr th:only-of-type {\n",
       "        vertical-align: middle;\n",
       "    }\n",
       "\n",
       "    .dataframe tbody tr th {\n",
       "        vertical-align: top;\n",
       "    }\n",
       "\n",
       "    .dataframe thead th {\n",
       "        text-align: right;\n",
       "    }\n",
       "</style>\n",
       "<table border=\"1\" class=\"dataframe\">\n",
       "  <thead>\n",
       "    <tr style=\"text-align: right;\">\n",
       "      <th></th>\n",
       "      <th>year_mm</th>\n",
       "      <th>Store Number</th>\n",
       "      <th>Total Chips</th>\n",
       "      <th>Number of Transactions</th>\n",
       "      <th>Total Sales</th>\n",
       "      <th>Number of Customers</th>\n",
       "    </tr>\n",
       "  </thead>\n",
       "  <tbody>\n",
       "    <tr>\n",
       "      <th>227</th>\n",
       "      <td>201807</td>\n",
       "      <td>233</td>\n",
       "      <td>88</td>\n",
       "      <td>54</td>\n",
       "      <td>290.7</td>\n",
       "      <td>51</td>\n",
       "    </tr>\n",
       "    <tr>\n",
       "      <th>489</th>\n",
       "      <td>201808</td>\n",
       "      <td>233</td>\n",
       "      <td>80</td>\n",
       "      <td>50</td>\n",
       "      <td>285.9</td>\n",
       "      <td>48</td>\n",
       "    </tr>\n",
       "    <tr>\n",
       "      <th>754</th>\n",
       "      <td>201809</td>\n",
       "      <td>233</td>\n",
       "      <td>70</td>\n",
       "      <td>45</td>\n",
       "      <td>228.6</td>\n",
       "      <td>42</td>\n",
       "    </tr>\n",
       "    <tr>\n",
       "      <th>1019</th>\n",
       "      <td>201810</td>\n",
       "      <td>233</td>\n",
       "      <td>56</td>\n",
       "      <td>36</td>\n",
       "      <td>185.7</td>\n",
       "      <td>35</td>\n",
       "    </tr>\n",
       "    <tr>\n",
       "      <th>1283</th>\n",
       "      <td>201811</td>\n",
       "      <td>233</td>\n",
       "      <td>62</td>\n",
       "      <td>41</td>\n",
       "      <td>211.6</td>\n",
       "      <td>40</td>\n",
       "    </tr>\n",
       "    <tr>\n",
       "      <th>1546</th>\n",
       "      <td>201812</td>\n",
       "      <td>233</td>\n",
       "      <td>75</td>\n",
       "      <td>50</td>\n",
       "      <td>279.8</td>\n",
       "      <td>47</td>\n",
       "    </tr>\n",
       "    <tr>\n",
       "      <th>1809</th>\n",
       "      <td>201901</td>\n",
       "      <td>233</td>\n",
       "      <td>47</td>\n",
       "      <td>35</td>\n",
       "      <td>177.5</td>\n",
       "      <td>35</td>\n",
       "    </tr>\n",
       "  </tbody>\n",
       "</table>\n",
       "</div>"
      ],
      "text/plain": [
       "      year_mm  Store Number  Total Chips   Number of Transactions  \\\n",
       "227    201807           233           88                       54   \n",
       "489    201808           233           80                       50   \n",
       "754    201809           233           70                       45   \n",
       "1019   201810           233           56                       36   \n",
       "1283   201811           233           62                       41   \n",
       "1546   201812           233           75                       50   \n",
       "1809   201901           233           47                       35   \n",
       "\n",
       "      Total Sales  Number of Customers  \n",
       "227         290.7                   51  \n",
       "489         285.9                   48  \n",
       "754         228.6                   42  \n",
       "1019        185.7                   35  \n",
       "1283        211.6                   40  \n",
       "1546        279.8                   47  \n",
       "1809        177.5                   35  "
      ]
     },
     "execution_count": 29,
     "metadata": {},
     "output_type": "execute_result"
    }
   ],
   "source": [
    "Trial1\n",
    "Control1"
   ]
  },
  {
   "cell_type": "code",
   "execution_count": 44,
   "id": "ff78e27d-656b-4d22-88ff-85ef9923345a",
   "metadata": {},
   "outputs": [
    {
     "data": {
      "image/png": "[encoded data removed]",
      "text/plain": [
       "<Figure size 800x400 with 1 Axes>"
      ]
     },
     "metadata": {},
     "output_type": "display_data"
    }
   ],
   "source": [
    "import matplotlib.pyplot as plt\n",
    "Trial1=pre_trial_store[pre_trial_store['Store Number']==86]\n",
    "Trial1_grouped = Trial1.groupby('year_mm')['Total Sales'].sum().reset_index()\n",
    "Control1=pre_trial_store[pre_trial_store['Store Number']==155]\n",
    "Control1_grouped = Control1.groupby('year_mm')['Total Sales'].sum().reset_index()\n",
    "plt.figure(figsize=(8,4))\n",
    "\n",
    "plt.plot(Trial1_grouped['year_mm'].astype(str), Trial1_grouped['Total Sales'], \n",
    "         marker='o', label='Trial Store 77')\n",
    "\n",
    "plt.plot(Control1_grouped['year_mm'].astype(str), Control1_grouped['Total Sales'], \n",
    "         marker='o', label='Control Store 233')\n",
    "\n",
    "plt.xlabel('Year-Month')\n",
    "plt.ylabel('Total Sales')\n",
    "plt.title('Pre-trial monthly total sales: Trial vs Control')\n",
    "plt.xticks(rotation=45)\n",
    "plt.legend()\n",
    "plt.show()"
   ]
  },
  {
   "cell_type": "code",
   "execution_count": 45,
   "id": "dfd767fb-b436-4577-a16f-440743a2aa5c",
   "metadata": {},
   "outputs": [
    {
     "data": {
      "image/png": "[encoded data removed]",
      "text/plain": [
       "<Figure size 800x400 with 1 Axes>"
      ]
     },
     "metadata": {},
     "output_type": "display_data"
    }
   ],
   "source": [
    "import matplotlib.pyplot as plt\n",
    "Trial1=pre_trial_store[pre_trial_store['Store Number']==88]\n",
    "Trial1_grouped = Trial1.groupby('year_mm')['Total Sales'].sum().reset_index()\n",
    "Control1=pre_trial_store[pre_trial_store['Store Number']==237]\n",
    "Control1_grouped = Control1.groupby('year_mm')['Total Sales'].sum().reset_index()\n",
    "plt.figure(figsize=(8,4))\n",
    "\n",
    "plt.plot(Trial1_grouped['year_mm'].astype(str), Trial1_grouped['Total Sales'], \n",
    "         marker='o', label='Trial Store 77')\n",
    "\n",
    "plt.plot(Control1_grouped['year_mm'].astype(str), Control1_grouped['Total Sales'], \n",
    "         marker='o', label='Control Store 233')\n",
    "\n",
    "plt.xlabel('Year-Month')\n",
    "plt.ylabel('Total Sales')\n",
    "plt.title('Pre-trial monthly total sales: Trial vs Control')\n",
    "plt.xticks(rotation=45)\n",
    "plt.legend()\n",
    "plt.show()"
   ]
  },
  {
   "cell_type": "code",
   "execution_count": 46,
   "id": "56f054bd-583e-4238-85ad-025264ab98af",
   "metadata": {},
   "outputs": [
    {
     "name": "stdout",
     "output_type": "stream",
     "text": [
      "   Trial Store  Control Store  Uplifting in Sales (%)  \\\n",
      "0           77            233                   23.46   \n",
      "1           86            155                    8.65   \n",
      "2           88            237                   16.62   \n",
      "\n",
      "   Uplifting in Customers (%)  \n",
      "0                       18.86  \n",
      "1                        7.39  \n",
      "2                        5.60  \n"
     ]
    }
   ],
   "source": [
    "#QUESTION 6 (CALCULATING UPLIFTING OF TOTAL SALES AND CUSTOMER)\n",
    "def uplift(trial,control):\n",
    "    Trial_pre=matrix[(matrix['Store Number']==trial)&(matrix['year_mm']<201902)]\n",
    "    Trial_post=matrix[(matrix['Store Number']==trial)&(matrix['year_mm']>201902)]\n",
    "    control_pre=matrix[(matrix['Store Number']==control)&(matrix['year_mm']<201902)]\n",
    "    control_post=matrix[(matrix['Store Number']==control)&(matrix['year_mm']>201902)]\n",
    "#grouping by months and sum\n",
    "    Trial_gr=Trial_pre.groupby('year_mm').agg({'Total Sales':'sum','Number of Customers':'sum'}).reset_index()\n",
    "    control_gr=control_pre.groupby('year_mm').agg({'Total Sales':'sum','Number of Customers':'sum'}).reset_index()\n",
    "    Trial_go=Trial_post.groupby('year_mm').agg({'Total Sales':'sum','Number of Customers':'sum'}).reset_index()\n",
    "    control_go=control_post.groupby('year_mm').agg({'Total Sales':'sum','Number of Customers':'sum'}).reset_index()\n",
    "#merging\n",
    "    pre=pd.merge(Trial_gr,control_gr,on='year_mm')\n",
    "    post=pd.merge(Trial_go,control_go,on='year_mm')\n",
    "#ratios\n",
    "    pre['ratio_ts']=pre['Total Sales_x']/pre['Total Sales_y']\n",
    "    pre['ratio_Noc']=pre['Number of Customers_x']/pre['Number of Customers_y']\n",
    "    post['ratio_ts']=post['Total Sales_x']/post['Total Sales_y']\n",
    "    post['ratio_Noc']=post['Number of Customers_x']/post['Number of Customers_y']\n",
    "###averages\n",
    "    pre_avg_ts=pre['ratio_ts'].mean()\n",
    "    pre_avg_Noc=pre['ratio_Noc'].mean()\n",
    "    post_avg_ts=post['ratio_ts'].mean()\n",
    "    post_avg_Noc=post['ratio_Noc'].mean()\n",
    "#Calculating uplifting\n",
    "    uplift_ts=(post_avg_ts-pre_avg_ts)/pre_avg_ts*100\n",
    "    uplift_Noc=(post_avg_Noc-pre_avg_Noc)/pre_avg_Noc*100\n",
    "    return {\n",
    "        'Trial Store': trial,\n",
    "        'Control Store': control,\n",
    "        'Uplifting in Sales (%)': round(uplift_ts, 2),\n",
    "        'Uplifting in Customers (%)': round(uplift_Noc, 2)\n",
    "    }\n",
    "\n",
    "trial = [77, 86, 88]\n",
    "control = [233, 155, 237]\n",
    "results = []\n",
    "for trial, control in zip(trial, control):\n",
    "    results.append(uplift(trial, control))\n",
    "# Convert to DataFrame\n",
    "Summary_uplifting = pd.DataFrame(results)\n",
    "print (Summary_uplifting)"
   ]
  },
  {
   "cell_type": "code",
   "execution_count": 62,
   "id": "74905f31-629b-464b-9b59-6914c0aab18e",
   "metadata": {},
   "outputs": [
    {
     "name": "stdout",
     "output_type": "stream",
     "text": [
      "   Trial Store  Control Store  T- test statistic  P-value\n",
      "0           77            233               1.42     0.24\n",
      "1           86            155               1.11     0.34\n",
      "2           88            237               4.67     0.00\n"
     ]
    }
   ],
   "source": [
    "#\n",
    "from scipy.stats import ttest_ind\n",
    "def uplift(trial,control):\n",
    "    Trial_pre=matrix[(matrix['Store Number']==trial)&(matrix['year_mm']<201902)]\n",
    "    Trial_post=matrix[(matrix['Store Number']==trial)&(matrix['year_mm']>201902)]\n",
    "    control_pre=matrix[(matrix['Store Number']==control)&(matrix['year_mm']<201902)]\n",
    "    control_post=matrix[(matrix['Store Number']==control)&(matrix['year_mm']>201902)]\n",
    "#grouping by months and sum\n",
    "    Trial_gr=Trial_pre.groupby('year_mm').agg({'Total Sales':'sum','Number of Customers':'sum'}).reset_index()\n",
    "    control_gr=control_pre.groupby('year_mm').agg({'Total Sales':'sum','Number of Customers':'sum'}).reset_index()\n",
    "    Trial_go=Trial_post.groupby('year_mm').agg({'Total Sales':'sum','Number of Customers':'sum'}).reset_index()\n",
    "    control_go=control_post.groupby('year_mm').agg({'Total Sales':'sum','Number of Customers':'sum'}).reset_index()\n",
    "#merging\n",
    "    pre=pd.merge(Trial_gr,control_gr,on='year_mm')\n",
    "    post=pd.merge(Trial_go,control_go,on='year_mm')\n",
    "#ratios\n",
    "    pre['ratio_ts']=pre['Total Sales_x']/pre['Total Sales_y']\n",
    "    pre['ratio_Noc']=pre['Number of Customers_x']/pre['Number of Customers_y']\n",
    "    post['ratio_ts']=post['Total Sales_x']/post['Total Sales_y']\n",
    "    post['ratio_Noc']=post['Number of Customers_x']/post['Number of Customers_y']\n",
    "#p value\n",
    "    t_stat, p_value = ttest_ind(post['ratio_ts'], pre['ratio_ts'], equal_var=False)\n",
    "    t_stat_cust, p_value_cust = ttest_ind(post['ratio_Noc'], pre['ratio_Noc'], equal_var=False)\n",
    "    return{\n",
    "    'Trial Store':trial,\n",
    "    'Control Store':control,\n",
    "    'T- test statistic': round(t_stat, 2),\n",
    "    'P-value': round(p_value, 2)\n",
    "    }\n",
    "        \n",
    "trial = [77, 86, 88]\n",
    "control = [233, 155, 237]\n",
    "results_total_sales = []\n",
    "for trial, control in zip(trial, control):\n",
    "    results_total_sales.append(uplift(trial, control))\n",
    "    \n",
    "# Convert to DataFrame\n",
    "test_summary_totalsales = pd.DataFrame(results_total_sales)\n",
    "print (test_summary_totalsales)\n"
   ]
  },
  {
   "cell_type": "code",
   "execution_count": 63,
   "id": "6e980260-4f55-4a92-b081-4ed257ff578b",
   "metadata": {},
   "outputs": [
    {
     "name": "stdout",
     "output_type": "stream",
     "text": [
      "   Trial Store  Control Store  T- test statistic  P-value\n",
      "0           77            233               1.36     0.27\n",
      "1           86            155               1.40     0.25\n",
      "2           88            237               1.85     0.16\n"
     ]
    }
   ],
   "source": [
    "#\n",
    "from scipy.stats import ttest_ind\n",
    "def uplift(trial,control):\n",
    "    Trial_pre=matrix[(matrix['Store Number']==trial)&(matrix['year_mm']<201902)]\n",
    "    Trial_post=matrix[(matrix['Store Number']==trial)&(matrix['year_mm']>201902)]\n",
    "    control_pre=matrix[(matrix['Store Number']==control)&(matrix['year_mm']<201902)]\n",
    "    control_post=matrix[(matrix['Store Number']==control)&(matrix['year_mm']>201902)]\n",
    "#grouping by months and sum\n",
    "    Trial_gr=Trial_pre.groupby('year_mm').agg({'Total Sales':'sum','Number of Customers':'sum'}).reset_index()\n",
    "    control_gr=control_pre.groupby('year_mm').agg({'Total Sales':'sum','Number of Customers':'sum'}).reset_index()\n",
    "    Trial_go=Trial_post.groupby('year_mm').agg({'Total Sales':'sum','Number of Customers':'sum'}).reset_index()\n",
    "    control_go=control_post.groupby('year_mm').agg({'Total Sales':'sum','Number of Customers':'sum'}).reset_index()\n",
    "#merging\n",
    "    pre=pd.merge(Trial_gr,control_gr,on='year_mm')\n",
    "    post=pd.merge(Trial_go,control_go,on='year_mm')\n",
    "#ratios\n",
    "    pre['ratio_ts']=pre['Total Sales_x']/pre['Total Sales_y']\n",
    "    pre['ratio_Noc']=pre['Number of Customers_x']/pre['Number of Customers_y']\n",
    "    post['ratio_ts']=post['Total Sales_x']/post['Total Sales_y']\n",
    "    post['ratio_Noc']=post['Number of Customers_x']/post['Number of Customers_y']\n",
    "#p value\n",
    "    t_stat_cust, p_value_cust = ttest_ind(post['ratio_Noc'], pre['ratio_Noc'], equal_var=False)\n",
    "    return{\n",
    "    'Trial Store':trial,\n",
    "    'Control Store':control,\n",
    "    'T- test statistic': round(t_stat_cust, 2),\n",
    "    'P-value': round(p_value_cust, 2)\n",
    "    }     \n",
    "trial = [77, 86, 88]\n",
    "control = [233, 155, 237]\n",
    "results_customer = []\n",
    "for trial, control in zip(trial, control):\n",
    "    results_customer.append(uplift(trial, control))\n",
    "\n",
    "# Convert to DataFrame\n",
    "test_summary_customer = pd.DataFrame(results_customer)\n",
    "print (test_summary_customer)\n"
   ]
  }
 ],
 "metadata": {
  "kernelspec": {
   "display_name": "Python 3 (ipykernel)",
   "language": "python",
   "name": "python3"
  },
  "language_info": {
   "codemirror_mode": {
    "name": "ipython",
    "version": 3
   },
   "file_extension": ".py",
   "mimetype": "text/x-python",
   "name": "python",
   "nbconvert_exporter": "python",
   "pygments_lexer": "ipython3",
   "version": "3.10.11"
  }
 },
 "nbformat": 4,
 "nbformat_minor": 5
}
